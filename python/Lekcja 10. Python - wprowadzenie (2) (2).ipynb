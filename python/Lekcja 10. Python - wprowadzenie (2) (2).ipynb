{
 "cells": [
  {
   "cell_type": "markdown",
   "metadata": {},
   "source": [
    "# Funkcje wbudowane w Pythonie\n",
    "\n",
    "Python ma zestaw funkcji wbudowanych, służacych ułatwieniu pracy z obiektami i srodowiskiem Pythona.\n",
    "\n",
    "- **`type(obj)`** zwraca typ obiektu\n",
    "- **`len(container)`** zwraca ilosc elementów w strukturze danych\n",
    "- **`callable(obj)`** sprawdza czy obiekt jest wykonywalny\n",
    "- **`sorted(container)`** sortuje elementy w strukturze podanej jako parametr\n",
    "- **`sum(container)`** sumuje elementy w strukturze\n",
    "- **`min(container)`** zwraca element o najmniejszej wartoci\n",
    "- **`max(container)`** zwraca element o najwiekszej wartoci\n",
    "- **`abs(number)`** wartosc bezwzględna liczby\n",
    "- **`repr(obj)`** zwraca reprezentacje obiektu w postaci string\n",
    "\n",
    "https://docs.python.org/3/library/functions.html"
   ]
  },
  {
   "cell_type": "code",
   "execution_count": 1,
   "metadata": {},
   "outputs": [],
   "source": [
    "simple_string1 = 'jakis_napis'\n",
    "dict1 = {'jabłko': 5, 'chleb': 1}"
   ]
  },
  {
   "cell_type": "code",
   "execution_count": 2,
   "metadata": {
    "scrolled": true
   },
   "outputs": [
    {
     "data": {
      "text/plain": [
       "str"
      ]
     },
     "execution_count": 2,
     "metadata": {},
     "output_type": "execute_result"
    }
   ],
   "source": [
    "# Typ obiektu\n",
    "type(simple_string1)"
   ]
  },
  {
   "cell_type": "code",
   "execution_count": 3,
   "metadata": {},
   "outputs": [
    {
     "data": {
      "text/plain": [
       "2"
      ]
     },
     "execution_count": 3,
     "metadata": {},
     "output_type": "execute_result"
    }
   ],
   "source": [
    "# Ilosc elementów w strukturze danych\n",
    "len(dict1)"
   ]
  },
  {
   "cell_type": "code",
   "execution_count": 4,
   "metadata": {},
   "outputs": [
    {
     "data": {
      "text/plain": [
       "True"
      ]
     },
     "execution_count": 4,
     "metadata": {},
     "output_type": "execute_result"
    }
   ],
   "source": [
    "# Sprawdzenie wykonywalnosci\n",
    "callable(len)"
   ]
  },
  {
   "cell_type": "code",
   "execution_count": 5,
   "metadata": {},
   "outputs": [
    {
     "data": {
      "text/plain": [
       "False"
      ]
     },
     "execution_count": 5,
     "metadata": {},
     "output_type": "execute_result"
    }
   ],
   "source": [
    "callable(dict1)"
   ]
  },
  {
   "cell_type": "code",
   "execution_count": 6,
   "metadata": {},
   "outputs": [
    {
     "data": {
      "text/plain": [
       "[-3, 1, 2, 3.6, 5, 7, 10]"
      ]
     },
     "execution_count": 6,
     "metadata": {},
     "output_type": "execute_result"
    }
   ],
   "source": [
    "# Posortowanie\n",
    "sorted([10, 1, 3.6, 7, 5, 2, -3])"
   ]
  },
  {
   "cell_type": "code",
   "execution_count": 10,
   "metadata": {},
   "outputs": [
    {
     "name": "stdout",
     "output_type": "stream",
     "text": [
      "['dogs', 'cats', 'zebras', 'Chicago', 'California', 'ants', 'mice']\n",
      "posortowany:  ['California', 'Chicago', 'ants', 'cats', 'dogs', 'mice', 'zebras']\n",
      "['dogs', 'cats', 'zebras', 'Chicago', 'California', 'ants', 'mice']\n"
     ]
    }
   ],
   "source": [
    "a = ['dogs', 'cats', 'zebras', 'Chicago', 'California', 'ants', 'mice']\n",
    "print(a)\n",
    "print(\"posortowany: \" , sorted(a))\n",
    "print(a)\n",
    "a = sorted(a)"
   ]
  },
  {
   "cell_type": "code",
   "execution_count": 11,
   "metadata": {},
   "outputs": [
    {
     "data": {
      "text/plain": [
       "['California', 'Chicago', 'ants', 'cats', 'dogs', 'mice', 'zebras']"
      ]
     },
     "execution_count": 11,
     "metadata": {},
     "output_type": "execute_result"
    }
   ],
   "source": [
    "# Sortowanie napisów\n",
    "sorted(['dogs', 'cats', 'zebras', 'Chicago', 'California', 'ants', 'mice'])"
   ]
  },
  {
   "cell_type": "code",
   "execution_count": 12,
   "metadata": {},
   "outputs": [
    {
     "data": {
      "text/plain": [
       "25.6"
      ]
     },
     "execution_count": 12,
     "metadata": {},
     "output_type": "execute_result"
    }
   ],
   "source": [
    "# Suma elementów\n",
    "sum([10, 1, 3.6, 7, 5, 2, -3])"
   ]
  },
  {
   "cell_type": "code",
   "execution_count": 13,
   "metadata": {},
   "outputs": [
    {
     "data": {
      "text/plain": [
       "-3"
      ]
     },
     "execution_count": 13,
     "metadata": {},
     "output_type": "execute_result"
    }
   ],
   "source": [
    "# Element minimalny\n",
    "min([10, 1, 3.6, 7, 5, 2, -3])"
   ]
  },
  {
   "cell_type": "code",
   "execution_count": 14,
   "metadata": {},
   "outputs": [
    {
     "data": {
      "text/plain": [
       "'a'"
      ]
     },
     "execution_count": 14,
     "metadata": {},
     "output_type": "execute_result"
    }
   ],
   "source": [
    "# Minimalny element w przypadku znaków\n",
    "min(['g', 'z', 'a', 'y'])"
   ]
  },
  {
   "cell_type": "code",
   "execution_count": 15,
   "metadata": {},
   "outputs": [
    {
     "data": {
      "text/plain": [
       "10"
      ]
     },
     "execution_count": 15,
     "metadata": {},
     "output_type": "execute_result"
    }
   ],
   "source": [
    "# Element maksymalny\n",
    "max([10, 1, 3.6, 7, 5, 2, -3])"
   ]
  },
  {
   "cell_type": "code",
   "execution_count": 16,
   "metadata": {},
   "outputs": [
    {
     "data": {
      "text/plain": [
       "'s'"
      ]
     },
     "execution_count": 16,
     "metadata": {},
     "output_type": "execute_result"
    }
   ],
   "source": [
    "max('gibberish')"
   ]
  },
  {
   "cell_type": "code",
   "execution_count": 17,
   "metadata": {},
   "outputs": [
    {
     "data": {
      "text/plain": [
       "10"
      ]
     },
     "execution_count": 17,
     "metadata": {},
     "output_type": "execute_result"
    }
   ],
   "source": [
    "# Wartosc bezwzględna\n",
    "abs(10)"
   ]
  },
  {
   "cell_type": "code",
   "execution_count": 18,
   "metadata": {},
   "outputs": [
    {
     "data": {
      "text/plain": [
       "12"
      ]
     },
     "execution_count": 18,
     "metadata": {},
     "output_type": "execute_result"
    }
   ],
   "source": [
    "# Wartosc bezwzględna\n",
    "abs(-12)"
   ]
  },
  {
   "cell_type": "code",
   "execution_count": 19,
   "metadata": {
    "scrolled": true
   },
   "outputs": [
    {
     "data": {
      "text/plain": [
       "\"{'jabłko': 5, 'chleb': 1}\""
      ]
     },
     "execution_count": 19,
     "metadata": {},
     "output_type": "execute_result"
    }
   ],
   "source": [
    "# Reprezentacja obiektu w postaci string\n",
    "repr(dict1)"
   ]
  },
  {
   "cell_type": "code",
   "execution_count": 21,
   "metadata": {},
   "outputs": [
    {
     "data": {
      "text/plain": [
       "str"
      ]
     },
     "execution_count": 21,
     "metadata": {},
     "output_type": "execute_result"
    }
   ],
   "source": [
    "type(repr(a))"
   ]
  },
  {
   "cell_type": "code",
   "execution_count": 22,
   "metadata": {},
   "outputs": [
    {
     "name": "stdout",
     "output_type": "stream",
     "text": [
      "<class 'dict'>\n",
      "<class 'str'>\n"
     ]
    }
   ],
   "source": [
    "print(type(dict1))\n",
    "print(type(repr(dict1)))"
   ]
  },
  {
   "cell_type": "code",
   "execution_count": null,
   "metadata": {},
   "outputs": [],
   "source": []
  },
  {
   "cell_type": "markdown",
   "metadata": {},
   "source": [
    "## Funkcje anonimowe (funkcje lambda)"
   ]
  },
  {
   "cell_type": "markdown",
   "metadata": {},
   "source": [
    "Funkcje anonimowe (lambda) to funkcje, których definiowanie nie wymaga podania nazwy funkcji. Funkcje te moga przyjmowac wiele argumentow, ale wykonuja i zwracaja jedno wyrażenie"
   ]
  },
  {
   "cell_type": "code",
   "execution_count": 23,
   "metadata": {},
   "outputs": [
    {
     "name": "stdout",
     "output_type": "stream",
     "text": [
      "Czesc\n"
     ]
    }
   ],
   "source": [
    "powitanie = lambda: print('Czesc')\n",
    "powitanie()"
   ]
  },
  {
   "cell_type": "markdown",
   "metadata": {},
   "source": [
    "Powyższa funkcja zapisana w tradycyjny sposób, wyglada tak:"
   ]
  },
  {
   "cell_type": "code",
   "execution_count": 24,
   "metadata": {},
   "outputs": [
    {
     "name": "stdout",
     "output_type": "stream",
     "text": [
      "Czesc\n"
     ]
    }
   ],
   "source": [
    "def powitanie():\n",
    "    print('Czesc')\n",
    "\n",
    "powitanie()"
   ]
  },
  {
   "cell_type": "markdown",
   "metadata": {},
   "source": [
    "Przykład funkcji lambda, zwracajcej kwadrat liczby podanej w argumencie:"
   ]
  },
  {
   "cell_type": "code",
   "execution_count": 25,
   "metadata": {},
   "outputs": [
    {
     "data": {
      "text/plain": [
       "25"
      ]
     },
     "execution_count": 25,
     "metadata": {},
     "output_type": "execute_result"
    }
   ],
   "source": [
    "kwadrat = lambda x: x * x\n",
    "\n",
    "kwadrat(5)"
   ]
  },
  {
   "cell_type": "markdown",
   "metadata": {},
   "source": [
    "Funkcje lambda sa zwykle używane w miejscach, gdzie potrzebujemy funkcji pomocniczej, wykonujacej prosta \"jednolinijkowa\" czynnosc, i kiedy nazwa funkcji nie gra żadnej roli."
   ]
  },
  {
   "cell_type": "code",
   "execution_count": 28,
   "metadata": {},
   "outputs": [],
   "source": [
    "fn = lambda x: (x+\" State\").upper()"
   ]
  },
  {
   "cell_type": "code",
   "execution_count": 31,
   "metadata": {},
   "outputs": [
    {
     "name": "stdout",
     "output_type": "stream",
     "text": [
      "['California', 'Chicago', 'ants', 'cats', 'dogs', 'mice', 'zebras']\n"
     ]
    },
    {
     "data": {
      "text/plain": [
       "['CALIFORNIA STATE',\n",
       " 'CHICAGO STATE',\n",
       " 'ANTS STATE',\n",
       " 'CATS STATE',\n",
       " 'DOGS STATE',\n",
       " 'MICE STATE',\n",
       " 'ZEBRAS STATE']"
      ]
     },
     "execution_count": 31,
     "metadata": {},
     "output_type": "execute_result"
    }
   ],
   "source": [
    "print(a)\n",
    "[fn(element) for element in a]"
   ]
  },
  {
   "cell_type": "markdown",
   "metadata": {},
   "source": [
    "# Dekoratory"
   ]
  },
  {
   "cell_type": "markdown",
   "metadata": {},
   "source": [
    "W Pythonie, funkcje też sa obiektami, co powoduje to, że możemy używa je do pewnego stopnia tak jak zwykłe zmienne."
   ]
  },
  {
   "cell_type": "code",
   "execution_count": 32,
   "metadata": {},
   "outputs": [],
   "source": [
    "def kulturalne_powitanie(name):\n",
    "    return 'Dzień dobry ' + name \n",
    "\n",
    "def przyjacielskie_powitanie(name):\n",
    "    return 'Siemka ' + name \n",
    "\n",
    "def powitanie(funkcja_witajaca, osoba):\n",
    "    return funkcja_witajaca(osoba)"
   ]
  },
  {
   "cell_type": "code",
   "execution_count": 33,
   "metadata": {},
   "outputs": [
    {
     "data": {
      "text/plain": [
       "'Dzień dobry Pani Profesor Ewa'"
      ]
     },
     "execution_count": 33,
     "metadata": {},
     "output_type": "execute_result"
    }
   ],
   "source": [
    "powitanie(kulturalne_powitanie, 'Pani Profesor Ewa')"
   ]
  },
  {
   "cell_type": "code",
   "execution_count": 34,
   "metadata": {},
   "outputs": [
    {
     "data": {
      "text/plain": [
       "'Siemka Ewa'"
      ]
     },
     "execution_count": 34,
     "metadata": {},
     "output_type": "execute_result"
    }
   ],
   "source": [
    "powitanie(przyjacielskie_powitanie, 'Ewa')"
   ]
  },
  {
   "cell_type": "markdown",
   "metadata": {},
   "source": [
    "Nazwa funkcji została przekazana jako argument => do innej funkcji."
   ]
  },
  {
   "cell_type": "code",
   "execution_count": 39,
   "metadata": {},
   "outputs": [
    {
     "data": {
      "text/plain": [
       "'Siemka Jan'"
      ]
     },
     "execution_count": 39,
     "metadata": {},
     "output_type": "execute_result"
    }
   ],
   "source": [
    "witanie = przyjacielskie_powitanie\n",
    "witanie(\"Jan\")"
   ]
  },
  {
   "cell_type": "markdown",
   "metadata": {},
   "source": [
    "W Pythonie, możemy definiowac funkcje wewnatrz funkcji."
   ]
  },
  {
   "cell_type": "code",
   "execution_count": 40,
   "metadata": {},
   "outputs": [],
   "source": [
    "def funkcja_zewnetrzna():\n",
    "    def funkcja_wewnetrzna():\n",
    "        print('Wewnatrz')\n",
    "    \n",
    "    print('Zewnetrzna funkcja start')\n",
    "    funkcja_wewnetrzna()\n",
    "    print('Zewnetrzna funkcja koniec')"
   ]
  },
  {
   "cell_type": "code",
   "execution_count": 41,
   "metadata": {},
   "outputs": [
    {
     "name": "stdout",
     "output_type": "stream",
     "text": [
      "Zewnetrzna funkcja start\n",
      "Wewnatrz\n",
      "Zewnetrzna funkcja koniec\n"
     ]
    }
   ],
   "source": [
    "funkcja_zewnetrzna()"
   ]
  },
  {
   "cell_type": "code",
   "execution_count": 42,
   "metadata": {},
   "outputs": [
    {
     "ename": "NameError",
     "evalue": "name 'funkcja_wewnetrzna' is not defined",
     "output_type": "error",
     "traceback": [
      "\u001b[1;31m---------------------------------------------------------------------------\u001b[0m",
      "\u001b[1;31mNameError\u001b[0m                                 Traceback (most recent call last)",
      "\u001b[1;32m<ipython-input-42-633b6cb93503>\u001b[0m in \u001b[0;36m<module>\u001b[1;34m\u001b[0m\n\u001b[1;32m----> 1\u001b[1;33m \u001b[0mfunkcja_wewnetrzna\u001b[0m\u001b[1;33m(\u001b[0m\u001b[1;33m)\u001b[0m  \u001b[1;31m# nie zadziala !\u001b[0m\u001b[1;33m\u001b[0m\u001b[1;33m\u001b[0m\u001b[0m\n\u001b[0m",
      "\u001b[1;31mNameError\u001b[0m: name 'funkcja_wewnetrzna' is not defined"
     ]
    }
   ],
   "source": [
    "funkcja_wewnetrzna()  # nie zadziala !"
   ]
  },
  {
   "cell_type": "code",
   "execution_count": 43,
   "metadata": {},
   "outputs": [
    {
     "name": "stdout",
     "output_type": "stream",
     "text": [
      "Zewnetrzna funkcja start\n",
      "Wewnatrz\n",
      "Zewnetrzna funkcja koniec\n"
     ]
    }
   ],
   "source": [
    "a = funkcja_zewnetrzna()"
   ]
  },
  {
   "cell_type": "markdown",
   "metadata": {},
   "source": [
    "Jeżeli w Pythonie możemy traktowac funkcjie jak zmienne, to możemy w szczególnosci zwrócic funkcje z funkcji, przy pomocy return"
   ]
  },
  {
   "cell_type": "code",
   "execution_count": 44,
   "metadata": {},
   "outputs": [],
   "source": [
    "def zewnetrzna(wersja_powitania):\n",
    "    def kulturalne_powitanie(name):\n",
    "        return 'Dzień dobry ' + name \n",
    "\n",
    "    def przyjacielskie_powitanie(name):\n",
    "        return 'Siemka ' + name \n",
    "    \n",
    "    if wersja_powitania == 'kulturalne':\n",
    "        return kulturalne_powitanie #nazwa funkcji\n",
    "    else:\n",
    "        return przyjacielskie_powitanie #nazwa funkcji"
   ]
  },
  {
   "cell_type": "code",
   "execution_count": 45,
   "metadata": {},
   "outputs": [
    {
     "data": {
      "text/plain": [
       "'Dzień dobry Pani Doktor'"
      ]
     },
     "execution_count": 45,
     "metadata": {},
     "output_type": "execute_result"
    }
   ],
   "source": [
    "powitanie = zewnetrzna('kulturalne')\n",
    "powitanie('Pani Doktor')"
   ]
  },
  {
   "cell_type": "code",
   "execution_count": 48,
   "metadata": {},
   "outputs": [
    {
     "data": {
      "text/plain": [
       "'Dzień dobry Pan Jan'"
      ]
     },
     "execution_count": 48,
     "metadata": {},
     "output_type": "execute_result"
    }
   ],
   "source": [
    "zewnetrzna('kulturalne')('Pan Jan')\n",
    "# zewnetrzna('kulturalne', 'Pan Jan')"
   ]
  },
  {
   "cell_type": "code",
   "execution_count": 51,
   "metadata": {},
   "outputs": [
    {
     "data": {
      "text/plain": [
       "'Siemka Krzysiek'"
      ]
     },
     "execution_count": 51,
     "metadata": {},
     "output_type": "execute_result"
    }
   ],
   "source": [
    "inne_powitanie = zewnetrzna('inne')\n",
    "inne_powitanie(\"Krzysiek\")"
   ]
  },
  {
   "cell_type": "markdown",
   "metadata": {},
   "source": [
    "Dekorator to mechanizm, pozwalajacy na modyfikowanie zachowania funkcji do pewnego stopnia, bez ingerencji w ich tresc. Mozna rozumiec go jako nakładke - wrapper dookola funkcji w Pythonie."
   ]
  },
  {
   "cell_type": "code",
   "execution_count": 52,
   "metadata": {},
   "outputs": [],
   "source": [
    "def dekorowanie_wydruku_funkcji(funkcja):\n",
    "    def dekorator():\n",
    "        print('******Wchodzimy do funkcji******')\n",
    "        funkcja()\n",
    "        print('******Koniec funkcji******')\n",
    "    return dekorator"
   ]
  },
  {
   "cell_type": "code",
   "execution_count": 53,
   "metadata": {},
   "outputs": [
    {
     "name": "stdout",
     "output_type": "stream",
     "text": [
      "Jakas akcja\n"
     ]
    }
   ],
   "source": [
    "def brzydka_funkcja():\n",
    "    print('Jakas akcja')\n",
    "\n",
    "brzydka_funkcja()"
   ]
  },
  {
   "cell_type": "code",
   "execution_count": 54,
   "metadata": {},
   "outputs": [
    {
     "name": "stdout",
     "output_type": "stream",
     "text": [
      "******Wchodzimy do funkcji******\n",
      "Jakas akcja\n",
      "******Koniec funkcji******\n"
     ]
    }
   ],
   "source": [
    "dekorowana_funkcja = dekorowanie_wydruku_funkcji(brzydka_funkcja)\n",
    "dekorowana_funkcja()"
   ]
  },
  {
   "cell_type": "code",
   "execution_count": null,
   "metadata": {},
   "outputs": [],
   "source": []
  },
  {
   "cell_type": "markdown",
   "metadata": {},
   "source": [
    "Python udostepnia specjalna składnię, aby móc dodawac dekorator do funkcji"
   ]
  },
  {
   "cell_type": "code",
   "execution_count": 55,
   "metadata": {},
   "outputs": [],
   "source": [
    "@dekorowanie_wydruku_funkcji\n",
    "def inna_funkcja():\n",
    "    print('Jakas inna funkcja')"
   ]
  },
  {
   "cell_type": "code",
   "execution_count": 56,
   "metadata": {},
   "outputs": [
    {
     "name": "stdout",
     "output_type": "stream",
     "text": [
      "******Wchodzimy do funkcji******\n",
      "Jakas inna funkcja\n",
      "******Koniec funkcji******\n"
     ]
    }
   ],
   "source": [
    "inna_funkcja()"
   ]
  },
  {
   "cell_type": "markdown",
   "metadata": {},
   "source": [
    "# Wyjatki w Pythonie"
   ]
  },
  {
   "cell_type": "markdown",
   "metadata": {},
   "source": [
    "Wyjatki oznaczaja pewnego rodzaju bład, który mógł byc spowodowany błędami w kodzie, srodowisku, systemie, ..."
   ]
  },
  {
   "cell_type": "code",
   "execution_count": 57,
   "metadata": {},
   "outputs": [],
   "source": [
    "def rob_cos_z_tablica(lista, index):\n",
    "    lista[index] = 'nowy_element'"
   ]
  },
  {
   "cell_type": "code",
   "execution_count": 58,
   "metadata": {},
   "outputs": [
    {
     "name": "stdout",
     "output_type": "stream",
     "text": [
      "['nowy_element', 2, 'b']\n",
      "['nowy_element', 'nowy_element', 'b']\n",
      "['nowy_element', 'nowy_element', 'nowy_element']\n",
      "list assignment index out of range\n"
     ]
    }
   ],
   "source": [
    "the_list = [1, 2, 'b']\n",
    "\n",
    "for i in range(4):\n",
    "    try:\n",
    "        rob_cos_z_tablica(the_list, i)\n",
    "        print(the_list)\n",
    "    except Exception as e:\n",
    "        print(e)"
   ]
  },
  {
   "cell_type": "code",
   "execution_count": 61,
   "metadata": {},
   "outputs": [
    {
     "name": "stdout",
     "output_type": "stream",
     "text": [
      "TypeError: rob_cos_z_tablica() missing 1 required positional argument: 'index'\n",
      "IndexError: list assignment index out of range\n"
     ]
    }
   ],
   "source": [
    "try:\n",
    "    try:\n",
    "        rob_cos_z_tablica(the_list)\n",
    "    except TypeError as ter:\n",
    "        print('TypeError:', ter)\n",
    "        rob_cos_z_tablica(the_list, 10)\n",
    "except IndexError as ier:\n",
    "    print('IndexError:', ier)"
   ]
  },
  {
   "cell_type": "code",
   "execution_count": 62,
   "metadata": {},
   "outputs": [
    {
     "ename": "Exception",
     "evalue": "jestem wyjatkiem",
     "output_type": "error",
     "traceback": [
      "\u001b[1;31m---------------------------------------------------------------------------\u001b[0m",
      "\u001b[1;31mException\u001b[0m                                 Traceback (most recent call last)",
      "\u001b[1;32m<ipython-input-62-fcadbf3d14db>\u001b[0m in \u001b[0;36m<module>\u001b[1;34m\u001b[0m\n\u001b[1;32m----> 1\u001b[1;33m \u001b[1;32mraise\u001b[0m \u001b[0mException\u001b[0m\u001b[1;33m(\u001b[0m\u001b[1;34m'jestem wyjatkiem'\u001b[0m\u001b[1;33m)\u001b[0m\u001b[1;33m\u001b[0m\u001b[1;33m\u001b[0m\u001b[0m\n\u001b[0m",
      "\u001b[1;31mException\u001b[0m: jestem wyjatkiem"
     ]
    }
   ],
   "source": [
    "raise Exception('jestem wyjatkiem')"
   ]
  },
  {
   "cell_type": "code",
   "execution_count": 63,
   "metadata": {},
   "outputs": [
    {
     "name": "stdout",
     "output_type": "stream",
     "text": [
      "wyjatek1\n"
     ]
    }
   ],
   "source": [
    "try:\n",
    "    raise Exception('wyjatek1')\n",
    "except Exception as e:\n",
    "    print(e)"
   ]
  },
  {
   "cell_type": "code",
   "execution_count": 64,
   "metadata": {},
   "outputs": [
    {
     "name": "stdout",
     "output_type": "stream",
     "text": [
      "wyjatek\n"
     ]
    },
    {
     "ename": "Exception",
     "evalue": "wyjatek",
     "output_type": "error",
     "traceback": [
      "\u001b[1;31m---------------------------------------------------------------------------\u001b[0m",
      "\u001b[1;31mException\u001b[0m                                 Traceback (most recent call last)",
      "\u001b[1;32m<ipython-input-64-3ac790323a23>\u001b[0m in \u001b[0;36m<module>\u001b[1;34m\u001b[0m\n\u001b[0;32m      1\u001b[0m \u001b[1;32mtry\u001b[0m\u001b[1;33m:\u001b[0m\u001b[1;33m\u001b[0m\u001b[1;33m\u001b[0m\u001b[0m\n\u001b[1;32m----> 2\u001b[1;33m     \u001b[1;32mraise\u001b[0m \u001b[0mException\u001b[0m\u001b[1;33m(\u001b[0m\u001b[1;34m'wyjatek'\u001b[0m\u001b[1;33m)\u001b[0m\u001b[1;33m\u001b[0m\u001b[1;33m\u001b[0m\u001b[0m\n\u001b[0m\u001b[0;32m      3\u001b[0m \u001b[1;32mexcept\u001b[0m \u001b[0mException\u001b[0m \u001b[1;32mas\u001b[0m \u001b[0me\u001b[0m\u001b[1;33m:\u001b[0m\u001b[1;33m\u001b[0m\u001b[1;33m\u001b[0m\u001b[0m\n\u001b[0;32m      4\u001b[0m     \u001b[0mprint\u001b[0m\u001b[1;33m(\u001b[0m\u001b[0me\u001b[0m\u001b[1;33m)\u001b[0m\u001b[1;33m\u001b[0m\u001b[1;33m\u001b[0m\u001b[0m\n\u001b[0;32m      5\u001b[0m     \u001b[1;32mraise\u001b[0m\u001b[1;33m\u001b[0m\u001b[1;33m\u001b[0m\u001b[0m\n",
      "\u001b[1;31mException\u001b[0m: wyjatek"
     ]
    }
   ],
   "source": [
    "try:\n",
    "    raise Exception('wyjatek')\n",
    "except Exception as e:\n",
    "    print(e)\n",
    "    raise"
   ]
  },
  {
   "cell_type": "markdown",
   "metadata": {},
   "source": [
    "# Zapis i odczyt"
   ]
  },
  {
   "cell_type": "markdown",
   "metadata": {},
   "source": [
    "## Do / z pliku"
   ]
  },
  {
   "cell_type": "markdown",
   "metadata": {},
   "source": [
    "### Tryby otwierania pliku\n",
    "\n",
    "Python ma kilka trybów otwarcia plików\n",
    "\n",
    "- **`r`** domyslny, otwieranie do odczytu\n",
    "- **`w`** otwieranie do zapisu (plik tworzony gdy nie istnieje, plik nadpisywany gdy istnieje)\n",
    "- **`x`** tworzy nowy plik (gdy plik istnieje funkcja zwraca bład)\n",
    "- **`a`** tryb dodawania zawartosci (plik tworzony gdy nie istnieje)\n",
    "- **`+`** otwarcie do zapisu i odczytu\n",
    "\n",
    "Tryb zapisu i odczytu danych\n",
    "- **`t`** domyslny, tryb tekstowy\n",
    "- **`b`** tryb binarny"
   ]
  },
  {
   "cell_type": "code",
   "execution_count": 65,
   "metadata": {},
   "outputs": [],
   "source": [
    "plik = open('plik_nowy.txt', 'w')\n",
    "plik.write('nowy text')\n",
    "plik.close()"
   ]
  },
  {
   "cell_type": "code",
   "execution_count": null,
   "metadata": {},
   "outputs": [],
   "source": [
    "with open('plik_nowy2.txt', 'w') as plik:\n",
    "    plik.write('nowy text2')"
   ]
  },
  {
   "cell_type": "code",
   "execution_count": null,
   "metadata": {},
   "outputs": [],
   "source": [
    "with open('plik_nowy2.txt') as plik:\n",
    "    print(plik.readlines()) # czyta plik linia po linii \n",
    "\n",
    "with open('plik_nowy2.txt') as plik:\n",
    "    print(plik.read()) # czyta caly plik jako jeden wielki string, iteracja po kazdym pojedynczym znaku"
   ]
  },
  {
   "cell_type": "markdown",
   "metadata": {},
   "source": [
    "## Od użytkownika"
   ]
  },
  {
   "cell_type": "code",
   "execution_count": 66,
   "metadata": {},
   "outputs": [
    {
     "name": "stdout",
     "output_type": "stream",
     "text": [
      "xyz\n"
     ]
    }
   ],
   "source": [
    "text = input()"
   ]
  },
  {
   "cell_type": "code",
   "execution_count": 67,
   "metadata": {},
   "outputs": [
    {
     "name": "stdout",
     "output_type": "stream",
     "text": [
      "xyz\n"
     ]
    }
   ],
   "source": [
    "print(text)"
   ]
  },
  {
   "cell_type": "code",
   "execution_count": 68,
   "metadata": {},
   "outputs": [
    {
     "name": "stdout",
     "output_type": "stream",
     "text": [
      "Podaj swoje imie: Ewa\n"
     ]
    }
   ],
   "source": [
    "text = input(\"Podaj swoje imie: \")"
   ]
  },
  {
   "cell_type": "markdown",
   "metadata": {},
   "source": [
    "# Klasy w Pythonie"
   ]
  },
  {
   "cell_type": "code",
   "execution_count": 35,
   "metadata": {},
   "outputs": [],
   "source": [
    "class Zwierze():\n",
    "    gatunek = 1\n",
    "    rodzaj = 2\n",
    "    \n",
    "    def __init__(self, wys, szer=5): # __init__ po polsku konstruktor\n",
    "        self.szer = szer\n",
    "    \n",
    "    def fnk_instancji(self):\n",
    "        print(\"przykładowy tekst\")\n",
    "        \n",
    "    def funkcja_klasy(napis):\n",
    "        print(napis)"
   ]
  },
  {
   "cell_type": "code",
   "execution_count": 25,
   "metadata": {},
   "outputs": [],
   "source": [
    "class Nazwa_klasy():\n",
    "    pass"
   ]
  },
  {
   "cell_type": "code",
   "execution_count": 26,
   "metadata": {},
   "outputs": [],
   "source": [
    "obiekt1 = Zwierze(23)\n",
    "obiekt2 = Zwierze(10, 20)"
   ]
  },
  {
   "cell_type": "code",
   "execution_count": 27,
   "metadata": {},
   "outputs": [
    {
     "name": "stdout",
     "output_type": "stream",
     "text": [
      "1 1\n"
     ]
    }
   ],
   "source": [
    "print(obiekt1.gatunek, obiekt2.gatunek)"
   ]
  },
  {
   "cell_type": "code",
   "execution_count": 28,
   "metadata": {},
   "outputs": [
    {
     "name": "stdout",
     "output_type": "stream",
     "text": [
      "23 10\n"
     ]
    }
   ],
   "source": [
    "print(obiekt1.wysokosc, obiekt2.wysokosc)"
   ]
  },
  {
   "cell_type": "code",
   "execution_count": 29,
   "metadata": {},
   "outputs": [
    {
     "ename": "AttributeError",
     "evalue": "'Zwierze' object has no attribute 'zmienna_2'",
     "output_type": "error",
     "traceback": [
      "\u001b[1;31m---------------------------------------------------------------------------\u001b[0m",
      "\u001b[1;31mAttributeError\u001b[0m                            Traceback (most recent call last)",
      "\u001b[1;32m<ipython-input-29-900f7267f87e>\u001b[0m in \u001b[0;36m<module>\u001b[1;34m\u001b[0m\n\u001b[0;32m      1\u001b[0m \u001b[0mobiekt\u001b[0m \u001b[1;33m=\u001b[0m \u001b[0mZwierze\u001b[0m\u001b[1;33m(\u001b[0m\u001b[1;36m23\u001b[0m\u001b[1;33m,\u001b[0m \u001b[1;36m56\u001b[0m\u001b[1;33m)\u001b[0m\u001b[1;33m\u001b[0m\u001b[1;33m\u001b[0m\u001b[0m\n\u001b[1;32m----> 2\u001b[1;33m \u001b[0mprint\u001b[0m\u001b[1;33m(\u001b[0m\u001b[0mobiekt\u001b[0m\u001b[1;33m.\u001b[0m\u001b[0mzmienna_2\u001b[0m\u001b[1;33m)\u001b[0m\u001b[1;33m\u001b[0m\u001b[1;33m\u001b[0m\u001b[0m\n\u001b[0m",
      "\u001b[1;31mAttributeError\u001b[0m: 'Zwierze' object has no attribute 'zmienna_2'"
     ]
    }
   ],
   "source": [
    "obiekt = Zwierze(23, 56)\n",
    "# print(obiekt.zmienna_2)"
   ]
  },
  {
   "cell_type": "code",
   "execution_count": 37,
   "metadata": {},
   "outputs": [
    {
     "name": "stdout",
     "output_type": "stream",
     "text": [
      "1\n",
      "wilka\n",
      "1\n",
      "kotowate\n"
     ]
    }
   ],
   "source": [
    "pies = Zwierze(10)\n",
    "print(pies.gatunek)\n",
    "pies.gatunek = 'wilka'\n",
    "print(pies.gatunek)\n",
    "kot = Zwierze(-5)\n",
    "print(kot.gatunek)\n",
    "kot.gatunek = 'kotowate'\n",
    "print(kot.gatunek)"
   ]
  },
  {
   "cell_type": "markdown",
   "metadata": {},
   "source": [
    "## Własciwosci i metody obiektów w Pythonie\n",
    "\n",
    "Różne typy obiektów w Pythonie maja różne atrybuty, które moga byc wywołane za pomoca ich nazw.\n",
    "Wywołanie atrybutu w Pythonie realizowane jest poprzez kropkę `.`\n",
    "Jeżeli atrybut jest wykonywalny, nazywany jest metoda.\n",
    "\n",
    "Funkcja wbudowana `dir()` może byc użyta do zwrócenia listy atrybutów danego obiektu."
   ]
  },
  {
   "cell_type": "code",
   "execution_count": 34,
   "metadata": {},
   "outputs": [
    {
     "data": {
      "text/plain": [
       "['__class__',\n",
       " '__delattr__',\n",
       " '__dict__',\n",
       " '__dir__',\n",
       " '__doc__',\n",
       " '__eq__',\n",
       " '__format__',\n",
       " '__ge__',\n",
       " '__getattribute__',\n",
       " '__gt__',\n",
       " '__hash__',\n",
       " '__init__',\n",
       " '__init_subclass__',\n",
       " '__le__',\n",
       " '__lt__',\n",
       " '__module__',\n",
       " '__ne__',\n",
       " '__new__',\n",
       " '__reduce__',\n",
       " '__reduce_ex__',\n",
       " '__repr__',\n",
       " '__setattr__',\n",
       " '__sizeof__',\n",
       " '__str__',\n",
       " '__subclasshook__',\n",
       " '__weakref__',\n",
       " 'funkcja',\n",
       " 'gatunek',\n",
       " 'rodzaj',\n",
       " 'szer',\n",
       " 'wysokosc']"
      ]
     },
     "execution_count": 34,
     "metadata": {},
     "output_type": "execute_result"
    }
   ],
   "source": [
    "dir(pies)"
   ]
  },
  {
   "cell_type": "code",
   "execution_count": 40,
   "metadata": {},
   "outputs": [
    {
     "name": "stdout",
     "output_type": "stream",
     "text": [
      "przykładowy tekst\n"
     ]
    }
   ],
   "source": [
    "pies.fnk_instancji()\n",
    "# fnk_instancji()"
   ]
  },
  {
   "cell_type": "code",
   "execution_count": 46,
   "metadata": {},
   "outputs": [
    {
     "name": "stdout",
     "output_type": "stream",
     "text": [
      "jakis napis\n"
     ]
    }
   ],
   "source": [
    "# pies.funkcja_klasy(\"jakis napis\")\n",
    "Zwierze.funkcja_klasy(\"jakis napis\")"
   ]
  },
  {
   "cell_type": "code",
   "execution_count": 62,
   "metadata": {},
   "outputs": [],
   "source": [
    "class Kalkulator():\n",
    "    \n",
    "#     def __init__(self, zmienna1, zmienna2, x):\n",
    "#         self.szer = zmienna1\n",
    "#         self.wys = zmienna2\n",
    "#         self.kolor = x\n",
    "        \n",
    "    def dodawanie(self, a, b):\n",
    "        return a + b\n",
    "    \n",
    "    def odejmowanie(self, a, b):\n",
    "        return a + b\n",
    "    \n",
    "    def potegowanie(self, a, b):\n",
    "        return a + b"
   ]
  },
  {
   "cell_type": "code",
   "execution_count": 59,
   "metadata": {},
   "outputs": [
    {
     "data": {
      "text/plain": [
       "9"
      ]
     },
     "execution_count": 59,
     "metadata": {},
     "output_type": "execute_result"
    }
   ],
   "source": [
    "kalk = Kalkulator()\n",
    "# kalk = Kalkulator(2, 5, 8)\n",
    "kalk.dodawanie(4, 5)"
   ]
  },
  {
   "cell_type": "code",
   "execution_count": 56,
   "metadata": {},
   "outputs": [
    {
     "name": "stdout",
     "output_type": "stream",
     "text": [
      "2 5 8\n"
     ]
    }
   ],
   "source": [
    "print(kalk.x, kalk.y, kalk.z)"
   ]
  },
  {
   "cell_type": "code",
   "execution_count": 53,
   "metadata": {},
   "outputs": [
    {
     "data": {
      "text/plain": [
       "['__class__',\n",
       " '__delattr__',\n",
       " '__dict__',\n",
       " '__dir__',\n",
       " '__doc__',\n",
       " '__eq__',\n",
       " '__format__',\n",
       " '__ge__',\n",
       " '__getattribute__',\n",
       " '__gt__',\n",
       " '__hash__',\n",
       " '__init__',\n",
       " '__init_subclass__',\n",
       " '__le__',\n",
       " '__lt__',\n",
       " '__module__',\n",
       " '__ne__',\n",
       " '__new__',\n",
       " '__reduce__',\n",
       " '__reduce_ex__',\n",
       " '__repr__',\n",
       " '__setattr__',\n",
       " '__sizeof__',\n",
       " '__str__',\n",
       " '__subclasshook__',\n",
       " '__weakref__',\n",
       " 'dodawanie']"
      ]
     },
     "execution_count": 53,
     "metadata": {},
     "output_type": "execute_result"
    }
   ],
   "source": [
    "dir(Kalkulator)"
   ]
  },
  {
   "cell_type": "markdown",
   "metadata": {},
   "source": [
    "## Dziedziczenie i hierarchie klas w Pythonie\n",
    "\n",
    "W Pythonie możemy wprowadzac hierarchię klas, w postaci klas bazowych i klas potomnych.\n",
    "Pomaga to w ujednolicaniu interfejsu (atrybutów i metod) poszczególnych klas."
   ]
  },
  {
   "cell_type": "code",
   "execution_count": 63,
   "metadata": {},
   "outputs": [],
   "source": [
    "class Bazowa:\n",
    "    def __init__(self, param1):\n",
    "        self.param1 = param1\n",
    "    \n",
    "    def wyswietl_param1(self):\n",
    "        print('Param1: ', self.param1)"
   ]
  },
  {
   "cell_type": "code",
   "execution_count": 64,
   "metadata": {},
   "outputs": [],
   "source": [
    "class Pochodna(Bazowa):\n",
    "    def __init__(self, param1, param2):\n",
    "        super().__init__(param1)\n",
    "        self.param2 = param2\n",
    "\n",
    "    def wyswietl_param2(self):\n",
    "        print('Param2: ', self.param2)"
   ]
  },
  {
   "cell_type": "code",
   "execution_count": 66,
   "metadata": {},
   "outputs": [
    {
     "name": "stdout",
     "output_type": "stream",
     "text": [
      "Param1:  wartosc1\n",
      "Param2:  wartosc2\n"
     ]
    }
   ],
   "source": [
    "pochodna = Pochodna('wartosc1', 'wartosc2')\n",
    "pochodna.wyswietl_param1()\n",
    "pochodna.wyswietl_param2()"
   ]
  },
  {
   "cell_type": "code",
   "execution_count": 67,
   "metadata": {},
   "outputs": [
    {
     "name": "stdout",
     "output_type": "stream",
     "text": [
      "Param1:  5\n"
     ]
    }
   ],
   "source": [
    "bazowa = Bazowa(5)\n",
    "bazowa.wyswietl_param1()"
   ]
  },
  {
   "cell_type": "code",
   "execution_count": 68,
   "metadata": {},
   "outputs": [
    {
     "ename": "AttributeError",
     "evalue": "'Bazowa' object has no attribute 'wyswietl_param2'",
     "output_type": "error",
     "traceback": [
      "\u001b[1;31m---------------------------------------------------------------------------\u001b[0m",
      "\u001b[1;31mAttributeError\u001b[0m                            Traceback (most recent call last)",
      "\u001b[1;32m<ipython-input-68-01b082754d49>\u001b[0m in \u001b[0;36m<module>\u001b[1;34m\u001b[0m\n\u001b[1;32m----> 1\u001b[1;33m \u001b[0mbazowa\u001b[0m\u001b[1;33m.\u001b[0m\u001b[0mwyswietl_param2\u001b[0m\u001b[1;33m(\u001b[0m\u001b[1;33m)\u001b[0m\u001b[1;33m\u001b[0m\u001b[1;33m\u001b[0m\u001b[0m\n\u001b[0m",
      "\u001b[1;31mAttributeError\u001b[0m: 'Bazowa' object has no attribute 'wyswietl_param2'"
     ]
    }
   ],
   "source": [
    "bazowa.wyswietl_param2()"
   ]
  },
  {
   "cell_type": "code",
   "execution_count": 69,
   "metadata": {},
   "outputs": [],
   "source": [
    "class Czlowiek:\n",
    "    def __init__(self, imie, nazwisko):\n",
    "        self.imie = imie\n",
    "        self.nazwisko = nazwisko\n",
    "        \n",
    "    def przedstaw_sie(self):\n",
    "        print(\"jestem \", self.imie, self.nazwisko)\n",
    "        \n",
    "        \n",
    "class Student(Czlowiek):\n",
    "    def __init__(self, imie, nazwisko, nr_ind):\n",
    "        super().__init__(imie, nazwisko)\n",
    "        self.indeks = nr_ind\n",
    "        \n",
    "    def przedstaw_sie(self):\n",
    "        print(\"Siemka jestem \", self.imie, self.indeks)"
   ]
  },
  {
   "cell_type": "code",
   "execution_count": 71,
   "metadata": {},
   "outputs": [],
   "source": [
    "osobe = Czlowiek(\"Jan\", \"Kowalski\")"
   ]
  },
  {
   "cell_type": "code",
   "execution_count": 74,
   "metadata": {},
   "outputs": [],
   "source": [
    "jas = Student(\"Jas\", \"Nowak\", '2378945')"
   ]
  },
  {
   "cell_type": "code",
   "execution_count": 76,
   "metadata": {},
   "outputs": [
    {
     "name": "stdout",
     "output_type": "stream",
     "text": [
      "jestem  Jan Kowalski\n",
      "Siemka jestem  Jas 2378945\n"
     ]
    }
   ],
   "source": [
    "osobe.przedstaw_sie()\n",
    "jas.przedstaw_sie()"
   ]
  },
  {
   "cell_type": "code",
   "execution_count": 77,
   "metadata": {},
   "outputs": [],
   "source": [
    "class PochodnaInna(Pochodna):\n",
    "    def wyswietl_parametry(self):\n",
    "        self.wyswietl_param1()\n",
    "        self.wyswietl_param2()"
   ]
  },
  {
   "cell_type": "code",
   "execution_count": 78,
   "metadata": {},
   "outputs": [
    {
     "name": "stdout",
     "output_type": "stream",
     "text": [
      "Param1:  123\n",
      "Param2:  456\n"
     ]
    }
   ],
   "source": [
    "pochodna_inna = PochodnaInna(123, 456)\n",
    "pochodna_inna.wyswietl_parametry()"
   ]
  },
  {
   "cell_type": "code",
   "execution_count": null,
   "metadata": {},
   "outputs": [],
   "source": []
  },
  {
   "cell_type": "markdown",
   "metadata": {},
   "source": [
    "## Polimorfizm"
   ]
  },
  {
   "cell_type": "markdown",
   "metadata": {},
   "source": [
    "W naszej hierarchii klas w Pythonie, możemy wprowadzac metody o tej samej nazwie zarówno w klasie bazowej, jak i klasie dziedziczacej. Pozwala to na wywoływanie tych samych metod, niezależnie od rodzaju (klasy) obiektu, z którym pracujemy."
   ]
  },
  {
   "cell_type": "code",
   "execution_count": 79,
   "metadata": {},
   "outputs": [],
   "source": [
    "class Figura:\n",
    "    def __init__(self, name):\n",
    "        self.name = name\n",
    "\n",
    "    def pole(self):\n",
    "        pass\n",
    "\n",
    "    def obwod(self):\n",
    "        pass\n",
    "    \n",
    "    def fakt(self):\n",
    "        return \"Jestem 2-wymiarowa figura\"\n",
    "\n",
    "class Kwadrat(Figura):\n",
    "    def __init__(self, length):\n",
    "        super().__init__('Kwadrat')\n",
    "        self.length = length\n",
    "\n",
    "    def pole(self):\n",
    "        return self.length**2\n",
    "\n",
    "    def obwod(self):\n",
    "        return self.length*4\n",
    "    \n",
    "    def fakt(self):\n",
    "        return 'Jestem kwadratem'\n",
    "\n",
    "class Kolo(Figura):\n",
    "    def __init__(self, radius):\n",
    "        super().__init__('Kolo')\n",
    "        self.radius = radius\n",
    "\n",
    "    def pole(self):\n",
    "        return 3.14*self.radius**2\n",
    "    \n",
    "    def obwod(self):\n",
    "        return 2 * 3.14 * self.radius"
   ]
  },
  {
   "cell_type": "code",
   "execution_count": 80,
   "metadata": {},
   "outputs": [],
   "source": [
    "lista_figur = [Kolo(5), Kwadrat(3), Kwadrat(6)]"
   ]
  },
  {
   "cell_type": "code",
   "execution_count": 81,
   "metadata": {},
   "outputs": [
    {
     "name": "stdout",
     "output_type": "stream",
     "text": [
      "Kolo o obwodzie 31.400000000000002 i polu 78.5\n",
      "Kwadrat o obwodzie 12 i polu 9\n",
      "Kwadrat o obwodzie 24 i polu 36\n"
     ]
    }
   ],
   "source": [
    "for figura in lista_figur:\n",
    "    print(figura.name, 'o obwodzie', figura.obwod(), 'i polu', figura.pole())"
   ]
  },
  {
   "cell_type": "code",
   "execution_count": 82,
   "metadata": {},
   "outputs": [],
   "source": [
    "kwadrat = Kwadrat(5)\n",
    "figura = Figura('jakas figura')"
   ]
  },
  {
   "cell_type": "code",
   "execution_count": 85,
   "metadata": {},
   "outputs": [
    {
     "data": {
      "text/plain": [
       "20"
      ]
     },
     "execution_count": 85,
     "metadata": {},
     "output_type": "execute_result"
    }
   ],
   "source": [
    "kwadrat.obwod()"
   ]
  },
  {
   "cell_type": "code",
   "execution_count": 87,
   "metadata": {},
   "outputs": [
    {
     "data": {
      "text/plain": [
       "'Jestem kwadratem'"
      ]
     },
     "execution_count": 87,
     "metadata": {},
     "output_type": "execute_result"
    }
   ],
   "source": [
    "kwadrat.fakt()"
   ]
  },
  {
   "cell_type": "code",
   "execution_count": 88,
   "metadata": {},
   "outputs": [
    {
     "data": {
      "text/plain": [
       "'Jestem 2-wymiarowa figura'"
      ]
     },
     "execution_count": 88,
     "metadata": {},
     "output_type": "execute_result"
    }
   ],
   "source": [
    "figura.fakt()  # zależnie od rodzaju obiektu, zostanie wywołana odpowiednia funkcja"
   ]
  },
  {
   "cell_type": "markdown",
   "metadata": {},
   "source": [
    "## Dziedziczenie wielokrotne"
   ]
  },
  {
   "cell_type": "markdown",
   "metadata": {},
   "source": [
    "Jedna klasa może miec wiele klas bazowych. Spowoduje to odziedziczenie argumentów oraz metod"
   ]
  },
  {
   "cell_type": "code",
   "execution_count": 89,
   "metadata": {},
   "outputs": [],
   "source": [
    "class Student:\n",
    "    def __init__(self, numer=None, *args, **kwargs):\n",
    "        super().__init__(*args, **kwargs)\n",
    "        self.numer = numer\n",
    "    \n",
    "    def ucz_sie(self, przedmiot):\n",
    "        print('Nauka przedmiotu:', przedmiot)"
   ]
  },
  {
   "cell_type": "code",
   "execution_count": 91,
   "metadata": {},
   "outputs": [],
   "source": [
    "class Pracownik:\n",
    "    def __init__(self, pokoj=None, *args, **kwargs):\n",
    "        super().__init__(*args, **kwargs)\n",
    "        self.pokoj = pokoj\n",
    "    \n",
    "    def pracuj(self, czas):\n",
    "        print('Praca przez', czas, 'godzin')"
   ]
  },
  {
   "cell_type": "code",
   "execution_count": 93,
   "metadata": {},
   "outputs": [],
   "source": [
    "class Doktorant(Pracownik, Student):\n",
    "    def __init__(self, numer, pokoj):\n",
    "        super().__init__(numer=numer, pokoj=pokoj)"
   ]
  },
  {
   "cell_type": "code",
   "execution_count": 94,
   "metadata": {},
   "outputs": [
    {
     "name": "stdout",
     "output_type": "stream",
     "text": [
      "Doktorant o numerze 334213 pracuje w pokoju 22\n"
     ]
    }
   ],
   "source": [
    "doktorant = Doktorant(334213, 22)\n",
    "print('Doktorant o numerze', doktorant.numer, 'pracuje w pokoju', doktorant.pokoj)"
   ]
  },
  {
   "cell_type": "code",
   "execution_count": 95,
   "metadata": {},
   "outputs": [
    {
     "name": "stdout",
     "output_type": "stream",
     "text": [
      "Praca przez 8 godzin\n"
     ]
    }
   ],
   "source": [
    "doktorant.pracuj(8)"
   ]
  },
  {
   "cell_type": "code",
   "execution_count": 96,
   "metadata": {},
   "outputs": [
    {
     "name": "stdout",
     "output_type": "stream",
     "text": [
      "Nauka przedmiotu: Data science\n"
     ]
    }
   ],
   "source": [
    "doktorant.ucz_sie('Data science')"
   ]
  },
  {
   "cell_type": "markdown",
   "metadata": {},
   "source": [
    "Przy stosowaniu dziedziczenia wielokrotnego należy uważac na tworzenie metod o tych samych nazwach w różnych klasach bazowych.\n",
    "Klasa dziedziczaca otrzyma wszystkie metody z każdej klasy bazowej, co może spowodowa sytuację, w której interpreter Pythona nie będzie mógł poprawnie wywnioskowac, której użyc."
   ]
  },
  {
   "cell_type": "code",
   "execution_count": 99,
   "metadata": {},
   "outputs": [
    {
     "name": "stdout",
     "output_type": "stream",
     "text": [
      "A\n"
     ]
    }
   ],
   "source": [
    "class A:\n",
    "    def printme(self):\n",
    "        print('A')\n",
    "\n",
    "class B:\n",
    "    def printme(self):\n",
    "        print('B')\n",
    "\n",
    "class C(A, B):\n",
    "    pass\n",
    "\n",
    "class D(B, A):\n",
    "    pass\n",
    "\n",
    "c = C()\n",
    "c.printme()"
   ]
  },
  {
   "cell_type": "code",
   "execution_count": 100,
   "metadata": {},
   "outputs": [
    {
     "name": "stdout",
     "output_type": "stream",
     "text": [
      "B\n"
     ]
    }
   ],
   "source": [
    "d = D()\n",
    "d.printme()"
   ]
  },
  {
   "cell_type": "markdown",
   "metadata": {},
   "source": [
    "## Klasy abstrakcyjne\n",
    "\n",
    "W Pythonie (i wielu innych językach) mamy możliwosc stworzenia tzw. klas abstrakcyjnych.\n",
    "Sa to klasy, których obiektu nie da się utworzyc bezposrednio, a jedynie poprzez dziedziczenie i stworzenie obiektu klasy pochodnej."
   ]
  },
  {
   "cell_type": "code",
   "execution_count": 101,
   "metadata": {},
   "outputs": [],
   "source": [
    "from abc import ABC, abstractmethod"
   ]
  },
  {
   "cell_type": "code",
   "execution_count": 102,
   "metadata": {},
   "outputs": [],
   "source": [
    "class Maszyna(ABC): # klasa abstrakcyjna\n",
    "    @abstractmethod\n",
    "    def typ():\n",
    "        pass"
   ]
  },
  {
   "cell_type": "code",
   "execution_count": 103,
   "metadata": {},
   "outputs": [
    {
     "ename": "TypeError",
     "evalue": "Can't instantiate abstract class Maszyna with abstract methods typ",
     "output_type": "error",
     "traceback": [
      "\u001b[1;31m---------------------------------------------------------------------------\u001b[0m",
      "\u001b[1;31mTypeError\u001b[0m                                 Traceback (most recent call last)",
      "\u001b[1;32m<ipython-input-103-288e97088be2>\u001b[0m in \u001b[0;36m<module>\u001b[1;34m\u001b[0m\n\u001b[1;32m----> 1\u001b[1;33m \u001b[0mmaszyna1\u001b[0m \u001b[1;33m=\u001b[0m \u001b[0mMaszyna\u001b[0m\u001b[1;33m(\u001b[0m\u001b[1;33m)\u001b[0m\u001b[1;33m\u001b[0m\u001b[1;33m\u001b[0m\u001b[0m\n\u001b[0m",
      "\u001b[1;31mTypeError\u001b[0m: Can't instantiate abstract class Maszyna with abstract methods typ"
     ]
    }
   ],
   "source": [
    "maszyna1 = Maszyna()"
   ]
  },
  {
   "cell_type": "code",
   "execution_count": 104,
   "metadata": {},
   "outputs": [],
   "source": [
    "class Samochod(Maszyna):\n",
    "    def typ(self):\n",
    "        return 'samochod'"
   ]
  },
  {
   "cell_type": "code",
   "execution_count": 105,
   "metadata": {},
   "outputs": [],
   "source": [
    "samochodzik = Samochod()"
   ]
  },
  {
   "cell_type": "code",
   "execution_count": 106,
   "metadata": {},
   "outputs": [
    {
     "data": {
      "text/plain": [
       "'samochod'"
      ]
     },
     "execution_count": 106,
     "metadata": {},
     "output_type": "execute_result"
    }
   ],
   "source": [
    "samochodzik.typ()"
   ]
  },
  {
   "cell_type": "markdown",
   "metadata": {},
   "source": [
    "## Kilka metod na obiektach typu string\n",
    "\n",
    "Obiekty string sa same w sobie niemodyfikowalne.\n",
    "Poniższe funkcje zwracaja nowe obiekty, będace modyfikacja pierwotnych.\n",
    "\n",
    "- **`.capitalize()`** pierwsza litera jest wielka\n",
    "- **`.upper()`** wszystkie litery wielkie\n",
    "- **`.lower()`** wszystkie litery małe\n",
    "- **`.count(substring)`** zliczanie wystapien podłańcucha w zmiennej string\n",
    "- **`.startswith(substring)`** czy string rozpoczyna sie podanym podstringiem\n",
    "- **`.endswith(substring)`** czy string kończy się podanym podstringiem\n",
    "- **`.replace(old, new)`** zwraca kopię napisu, w którym zamieniane jest wystpienie `old` na `new`"
   ]
  },
  {
   "cell_type": "code",
   "execution_count": 69,
   "metadata": {},
   "outputs": [
    {
     "data": {
      "text/plain": [
       "'zdanie powinno zaczynac sie wielka litera'"
      ]
     },
     "execution_count": 69,
     "metadata": {},
     "output_type": "execute_result"
    }
   ],
   "source": [
    "str1 = 'zdanie powinno zaczynac sie wielka litera'\n",
    "str1"
   ]
  },
  {
   "cell_type": "code",
   "execution_count": 70,
   "metadata": {},
   "outputs": [
    {
     "data": {
      "text/plain": [
       "'Zdanie powinno zaczynac sie wielka litera'"
      ]
     },
     "execution_count": 70,
     "metadata": {},
     "output_type": "execute_result"
    }
   ],
   "source": [
    "    str1.capitalize()"
   ]
  },
  {
   "cell_type": "code",
   "execution_count": 71,
   "metadata": {},
   "outputs": [
    {
     "data": {
      "text/plain": [
       "'zdanie powinno zaczynac sie wielka litera'"
      ]
     },
     "execution_count": 71,
     "metadata": {},
     "output_type": "execute_result"
    }
   ],
   "source": [
    "str1"
   ]
  },
  {
   "cell_type": "code",
   "execution_count": 72,
   "metadata": {},
   "outputs": [
    {
     "data": {
      "text/plain": [
       "'duzy naglowek'"
      ]
     },
     "execution_count": 72,
     "metadata": {},
     "output_type": "execute_result"
    }
   ],
   "source": [
    "str2 = 'duzy naglowek'\n",
    "str2"
   ]
  },
  {
   "cell_type": "code",
   "execution_count": 73,
   "metadata": {},
   "outputs": [
    {
     "data": {
      "text/plain": [
       "'DUZY NAGLOWEK'"
      ]
     },
     "execution_count": 73,
     "metadata": {},
     "output_type": "execute_result"
    }
   ],
   "source": [
    "str2.upper()"
   ]
  },
  {
   "cell_type": "code",
   "execution_count": 74,
   "metadata": {},
   "outputs": [
    {
     "data": {
      "text/plain": [
       "True"
      ]
     },
     "execution_count": 74,
     "metadata": {},
     "output_type": "execute_result"
    }
   ],
   "source": [
    "str2.startswith('duzy')"
   ]
  },
  {
   "cell_type": "code",
   "execution_count": 75,
   "metadata": {},
   "outputs": [
    {
     "data": {
      "text/plain": [
       "False"
      ]
     },
     "execution_count": 75,
     "metadata": {},
     "output_type": "execute_result"
    }
   ],
   "source": [
    "str2.endswith('naglowki')"
   ]
  },
  {
   "cell_type": "code",
   "execution_count": 76,
   "metadata": {},
   "outputs": [
    {
     "data": {
      "text/plain": [
       "'duzy naglowki'"
      ]
     },
     "execution_count": 76,
     "metadata": {},
     "output_type": "execute_result"
    }
   ],
   "source": [
    "str2 = str2.replace('naglowek', 'naglowki')\n",
    "str2"
   ]
  },
  {
   "cell_type": "code",
   "execution_count": 77,
   "metadata": {},
   "outputs": [
    {
     "data": {
      "text/plain": [
       "True"
      ]
     },
     "execution_count": 77,
     "metadata": {},
     "output_type": "execute_result"
    }
   ],
   "source": [
    "str2.endswith('naglowki')"
   ]
  },
  {
   "cell_type": "code",
   "execution_count": 78,
   "metadata": {},
   "outputs": [
    {
     "data": {
      "text/plain": [
       "'a ab abc abcd abcdef'"
      ]
     },
     "execution_count": 78,
     "metadata": {},
     "output_type": "execute_result"
    }
   ],
   "source": [
    "str3 = 'a ab abc abcd abcdef'\n",
    "str3"
   ]
  },
  {
   "cell_type": "code",
   "execution_count": 79,
   "metadata": {},
   "outputs": [
    {
     "data": {
      "text/plain": [
       "4"
      ]
     },
     "execution_count": 79,
     "metadata": {},
     "output_type": "execute_result"
    }
   ],
   "source": [
    "str3.count('b')"
   ]
  },
  {
   "cell_type": "code",
   "execution_count": 81,
   "metadata": {},
   "outputs": [
    {
     "data": {
      "text/plain": [
       "'a a1 a1c abcd abcdef'"
      ]
     },
     "execution_count": 81,
     "metadata": {},
     "output_type": "execute_result"
    }
   ],
   "source": [
    "str3 = 'a ab abc abcd abcdef'\n",
    "str3.replace('b', '1', 2)"
   ]
  },
  {
   "cell_type": "code",
   "execution_count": null,
   "metadata": {},
   "outputs": [],
   "source": []
  },
  {
   "cell_type": "markdown",
   "metadata": {},
   "source": [
    "# Zadania"
   ]
  },
  {
   "cell_type": "markdown",
   "metadata": {},
   "source": [
    "## Zadanie 1\n",
    "\n",
    "Stwórz klasę *Pamiętnik*, która zaimplementuje metody do odczytywania i dopisywania zawartosci. Zawartosc będzie przechowywana w pliku tekstowym."
   ]
  },
  {
   "cell_type": "code",
   "execution_count": null,
   "metadata": {},
   "outputs": [],
   "source": []
  },
  {
   "cell_type": "markdown",
   "metadata": {},
   "source": [
    "## Zadanie 2.\n",
    "\n",
    "Stwórz klasę *Trójkat*, w której konstruktor przyjmuje 3 argumenty, reprezentujace katy trójkata. Klasa implementuje metodę *sprawdz_katy*, która sprawdzi czy suma katow jest rowna 180."
   ]
  },
  {
   "cell_type": "code",
   "execution_count": 107,
   "metadata": {},
   "outputs": [],
   "source": [
    "class Trojkat:\n",
    "    def __init__(self, alfa, beta, gamma):\n",
    "        self.alfa = alfa\n",
    "        self.beta = beta\n",
    "        self.gamma = gamma\n",
    "        \n",
    "    def sprawdz_katy(self):\n",
    "        return self.alfa + self.beta + self.gamma == 180"
   ]
  },
  {
   "cell_type": "code",
   "execution_count": 111,
   "metadata": {},
   "outputs": [
    {
     "data": {
      "text/plain": [
       "True"
      ]
     },
     "execution_count": 111,
     "metadata": {},
     "output_type": "execute_result"
    }
   ],
   "source": [
    "a = Trojkat(90, 30, 60)\n",
    "a.sprawdz_katy()"
   ]
  },
  {
   "cell_type": "markdown",
   "metadata": {},
   "source": [
    "## Zadanie 3.\n",
    "\n",
    "Stwórz klasę przyjmujaca w konstruktorze listę będaca kolejnymi wierszami piosenki.\n",
    "Klasa będzie mie metodę *spiewaj*, która wypisze wszystkie wiersze piosenki po kolei."
   ]
  },
  {
   "cell_type": "code",
   "execution_count": null,
   "metadata": {},
   "outputs": [],
   "source": []
  },
  {
   "cell_type": "markdown",
   "metadata": {},
   "source": [
    "## Zadanie 4.\n",
    "\n",
    "Zaimplementuj klasę bazowa *Figura*. Klasa będzie miec metody obliczajace pole i obwod.\n",
    "Stworz klasy reprezentujace trójkat i prostokat, implementujace odpowiednio obie metody."
   ]
  },
  {
   "cell_type": "code",
   "execution_count": null,
   "metadata": {},
   "outputs": [],
   "source": []
  },
  {
   "cell_type": "markdown",
   "metadata": {},
   "source": [
    "## Zadanie 5.\n",
    "\n",
    "Stwórz klasę reprezentujaca odcinek, która przymuje w konstruktorze współrzędne obu końców w układzie współrzędnych XY.\n",
    "Klasa implementuje metodę obliczaja długosc linii."
   ]
  },
  {
   "cell_type": "code",
   "execution_count": 134,
   "metadata": {},
   "outputs": [],
   "source": [
    "import math\n",
    "\n",
    "class Odcinek:\n",
    "    def __init__(self, *args):\n",
    "        self.A = args[0]\n",
    "        self.B = args[1]\n",
    "\n",
    "    def oblicz_dlugosc(self):\n",
    "        return math.sqrt((self.A[0] - self.B[0])**2 + (self.A[1] - self.B[1])**2)"
   ]
  },
  {
   "cell_type": "code",
   "execution_count": 138,
   "metadata": {},
   "outputs": [
    {
     "data": {
      "text/plain": [
       "15.231546211727817"
      ]
     },
     "execution_count": 138,
     "metadata": {},
     "output_type": "execute_result"
    }
   ],
   "source": [
    "o = Odcinek((2,5), (8,19))\n",
    "o.oblicz_dlugosc()"
   ]
  },
  {
   "cell_type": "markdown",
   "metadata": {},
   "source": [
    "## Zadanie 7.\n",
    "\n",
    "Stwórz klasę reprezentujaca wielokat, i przyjmujaca w konstruktorze listę kolejnych linii (obiekty klasy z poprzedniego zadania), reprezentujacych kolejne boki wielokata.\n",
    "Klasa powinna sprawdzic czy dane sa poprawne (czy każda linia kończy się tam gdzie zaczyna następna).\n",
    "Klasa wielokata implementuje również metodę obliczajaca obwód."
   ]
  },
  {
   "cell_type": "code",
   "execution_count": null,
   "metadata": {},
   "outputs": [],
   "source": []
  },
  {
   "cell_type": "markdown",
   "metadata": {},
   "source": [
    "## Zadanie 8.\n",
    "\n",
    "Stwórz abstrakcyjna klasę bazowa reperzentujaca zwierze.\n",
    "Konstruktor klasy będzie przyjmowac parametr reprezentujacy imię zwierzęcia.\n",
    "Klasa będzie miec 2 metody.\n",
    "Jedna metoda *daj_glos* będzie abstrakcyjna.\n",
    "Druga metoda *powitanie* będzie wyswietlac napis, składajacy się z wartosci zwracanej przez *daj_glos*, z wyswietlenia imienia zwierzęcia oraz z wyswietlenia jakiego typu (atrybut typ dla klasy) jest zwierze."
   ]
  },
  {
   "cell_type": "code",
   "execution_count": null,
   "metadata": {},
   "outputs": [],
   "source": []
  },
  {
   "cell_type": "markdown",
   "metadata": {},
   "source": [
    "## Zadanie 9.\n",
    "\n",
    "Stwórz klasy potomne dla klasy bazowej zwierzęcia, implementujace reprezentujace psa i kota.\n",
    "W konstruktorze każdej z nich ustaw odpowiednio zmienna reprezentujaca typ zwierzęcia.\n",
    "Zaimplementuj odpowiednio metodę *daj_głos* w każdej z klas potomnych.\n",
    "Sprawdź, czy obiekty stworzone z klas *Pies* i *Kot* potrafia poprawnie się przywitac."
   ]
  },
  {
   "cell_type": "code",
   "execution_count": null,
   "metadata": {},
   "outputs": [],
   "source": []
  }
 ],
 "metadata": {
  "kernelspec": {
   "display_name": "Python 3",
   "language": "python",
   "name": "python3"
  },
  "language_info": {
   "codemirror_mode": {
    "name": "ipython",
    "version": 3
   },
   "file_extension": ".py",
   "mimetype": "text/x-python",
   "name": "python",
   "nbconvert_exporter": "python",
   "pygments_lexer": "ipython3",
   "version": "3.7.6"
  }
 },
 "nbformat": 4,
 "nbformat_minor": 1
}
